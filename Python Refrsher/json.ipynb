{
 "cells": [
  {
   "cell_type": "code",
   "execution_count": 10,
   "id": "256faabd",
   "metadata": {},
   "outputs": [],
   "source": [
    "import json "
   ]
  },
  {
   "cell_type": "markdown",
   "id": "14ccf0c9",
   "metadata": {},
   "source": [
    "# **JSON DATA**\n",
    "\n",
    "- `json.dumps(object)` converts python object into jason string\n",
    "- `json.dump(object,file)` writes JSON into file\n",
    "- `json.loads(json_string)` converts JSON string into Py object\n",
    "- `json.load(file)` Reads JSON from a file\n",
    "\n",
    "we can add indent int he json as a parameter\n"
   ]
  },
  {
   "cell_type": "code",
   "execution_count": 21,
   "id": "fb14c1a9",
   "metadata": {},
   "outputs": [
    {
     "name": "stdout",
     "output_type": "stream",
     "text": [
      "{\n",
      "          \"Name\": \"Shreenandan\",\n",
      "          \"Age\": 24,\n",
      "          \"City\": \"Cuttack\"\n",
      "}\n"
     ]
    }
   ],
   "source": [
    "obj={\"Name\":\"Shreenandan\",\"Age\":24,\"City\":\"Cuttack\"}\n",
    "s=json.dumps(obj,indent=10)\n",
    "type(s)\n",
    "print(s)"
   ]
  },
  {
   "cell_type": "code",
   "execution_count": 18,
   "id": "25ef299b",
   "metadata": {},
   "outputs": [
    {
     "data": {
      "text/plain": [
       "dict"
      ]
     },
     "execution_count": 18,
     "metadata": {},
     "output_type": "execute_result"
    }
   ],
   "source": [
    "type(json.loads(s))"
   ]
  },
  {
   "cell_type": "code",
   "execution_count": null,
   "id": "692c4275",
   "metadata": {},
   "outputs": [],
   "source": [
    "obj={\"Name\":\"Shreenandan\",\"Age\":24,\"City\":\"Cuttack\"}\n",
    "s=open(\"check.json\",\"w\")\n",
    "json.dump(obj,s)\n",
    "s.close()"
   ]
  }
 ],
 "metadata": {
  "kernelspec": {
   "display_name": "Python 3",
   "language": "python",
   "name": "python3"
  },
  "language_info": {
   "codemirror_mode": {
    "name": "ipython",
    "version": 3
   },
   "file_extension": ".py",
   "mimetype": "text/x-python",
   "name": "python",
   "nbconvert_exporter": "python",
   "pygments_lexer": "ipython3",
   "version": "3.11.4"
  }
 },
 "nbformat": 4,
 "nbformat_minor": 5
}
